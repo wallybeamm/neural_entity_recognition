{
  "nbformat": 4,
  "nbformat_minor": 0,
  "metadata": {
    "colab": {
      "provenance": [],
      "authorship_tag": "ABX9TyMNtd5zEQR49L2uZbluM4id",
      "include_colab_link": true
    },
    "kernelspec": {
      "name": "python3",
      "display_name": "Python 3"
    },
    "language_info": {
      "name": "python"
    }
  },
  "cells": [
    {
      "cell_type": "markdown",
      "metadata": {
        "id": "view-in-github",
        "colab_type": "text"
      },
      "source": [
        "<a href=\"https://colab.research.google.com/github/wallybeamm/neural_entity_recognition/blob/feature%2Finit/enitity_recognation.ipynb\" target=\"_parent\"><img src=\"https://colab.research.google.com/assets/colab-badge.svg\" alt=\"Open In Colab\"/></a>"
      ]
    },
    {
      "cell_type": "code",
      "execution_count": 13,
      "metadata": {
        "id": "6Ufi2-yn8_XV",
        "colab": {
          "base_uri": "https://localhost:8080/"
        },
        "outputId": "ca3c10dd-6268-4515-d23f-be32de5c013e"
      },
      "outputs": [
        {
          "output_type": "stream",
          "name": "stdout",
          "text": [
            "Hello World\n"
          ]
        }
      ],
      "source": [
        "print('Hello World')"
      ]
    },
    {
      "cell_type": "code",
      "source": [
        "# Perform standard imports \n",
        "import spacy \n",
        "nlp = spacy.load('en_core_web_sm')\n",
        "# Write a function to display basic entity info: \n",
        "def show_ents(doc): \n",
        "  if doc.ents: \n",
        "    for ent in doc.ents: print(ent.text+' - ' +str(ent.start_char) +' - '+ str(ent.end_char) +' - '+ent.label_+ ' - '+str(spacy.explain(ent.label_))) \n",
        "  else: \n",
        "    print('No named entities found.')\n",
        "doc1 = nlp(\"Apple is looking at buying U.K. startup for $1 billion\") \n",
        "show_ents(doc1)\n"
      ],
      "metadata": {
        "colab": {
          "base_uri": "https://localhost:8080/"
        },
        "id": "T9DH5x6a-1we",
        "outputId": "821f4f84-7899-4020-bce4-163f1358594c"
      },
      "execution_count": 14,
      "outputs": [
        {
          "output_type": "stream",
          "name": "stdout",
          "text": [
            "Apple - 0 - 5 - ORG - Companies, agencies, institutions, etc.\n",
            "U.K. - 27 - 31 - GPE - Countries, cities, states\n",
            "$1 billion - 44 - 54 - MONEY - Monetary values, including unit\n"
          ]
        }
      ]
    },
    {
      "cell_type": "code",
      "source": [
        "TRAIN_DATA = [\n",
        "    ('Who is Nishanth?', {\n",
        "        'entities': [(7, 15, 'PERSON')]\n",
        "    }),\n",
        "     ('Who is Kamal Khumar?', {\n",
        "        'entities': [(7, 19, 'PERSON')]\n",
        "    }),\n",
        "    ('I like London and Berlin.', {\n",
        "        'entities': [(7, 13, 'LOC'), (18, 24, 'LOC')]\n",
        "    })\n",
        "]"
      ],
      "metadata": {
        "id": "nF0RMaoJLhcT"
      },
      "execution_count": 15,
      "outputs": []
    },
    {
      "cell_type": "code",
      "source": [
        "model = None\n",
        "output_dir = \"/content/Model\"\n",
        "n_iter = 100"
      ],
      "metadata": {
        "id": "pxE40r16Ln4q"
      },
      "execution_count": 16,
      "outputs": []
    },
    {
      "cell_type": "code",
      "source": [
        "#load the model\n",
        "\n",
        "if model is not None:\n",
        "    nlp = spacy.load(model)  \n",
        "    print(\"Loaded model '%s'\" % model)\n",
        "else:\n",
        "    nlp = spacy.blank('en')  \n",
        "    print(\"Created blank 'en' model\")\n",
        "\n",
        "#set up the pipeline\n",
        "\n",
        "if 'ner' not in nlp.pipe_names:\n",
        "    ner = nlp.create_pipe('ner')\n",
        "    nlp.add_pipe('ner', last=True)\n",
        "else:\n",
        "    ner = nlp.get_pipe('ner')\n"
      ],
      "metadata": {
        "colab": {
          "base_uri": "https://localhost:8080/"
        },
        "id": "zPtCJ8mgMAfD",
        "outputId": "110f5982-64af-445b-d302-eecbf71da0e2"
      },
      "execution_count": 17,
      "outputs": [
        {
          "output_type": "stream",
          "name": "stdout",
          "text": [
            "Created blank 'en' model\n"
          ]
        }
      ]
    },
    {
      "cell_type": "code",
      "source": [
        "import random\n",
        "from spacy.training.example import Example\n",
        "\n",
        "for _, annotations in TRAIN_DATA:\n",
        "    for ent in annotations.get('entities'):\n",
        "        ner.add_label(ent[2])\n",
        "\n",
        "other_pipes = [pipe for pipe in nlp.pipe_names if pipe != 'ner']\n",
        "with nlp.disable_pipes(*other_pipes):  # only train NER\n",
        "    optimizer = nlp.begin_training()\n",
        "    for itn in range(n_iter):\n",
        "        random.shuffle(TRAIN_DATA)\n",
        "        losses = {}\n",
        "        for batch in spacy.util.minibatch(TRAIN_DATA, size=2):\n",
        "            for text, annotations in batch:\n",
        "                # create Example\n",
        "                doc = nlp.make_doc(text)\n",
        "                example = Example.from_dict(doc, annotations)\n",
        "                # Update the model\n",
        "                nlp.update([example], losses=losses, drop=0.3)\n",
        "                \n",
        "        print(losses)"
      ],
      "metadata": {
        "colab": {
          "base_uri": "https://localhost:8080/"
        },
        "id": "nQRztIHHMFpv",
        "outputId": "acf4cb97-3403-4437-f570-f942d4007045"
      },
      "execution_count": 18,
      "outputs": [
        {
          "output_type": "stream",
          "name": "stdout",
          "text": [
            "{'ner': 12.867681920528412}\n",
            "{'ner': 12.269958734512329}\n",
            "{'ner': 10.988915383815765}\n",
            "{'ner': 9.58344829082489}\n",
            "{'ner': 7.824333682656288}\n",
            "{'ner': 5.664001441560686}\n",
            "{'ner': 4.534312762320042}\n",
            "{'ner': 3.968154416041216}\n",
            "{'ner': 3.4042938351758494}\n",
            "{'ner': 6.786874026679087}\n",
            "{'ner': 4.979112587694544}\n",
            "{'ner': 2.6489539966637494}\n",
            "{'ner': 2.3734214174480712}\n",
            "{'ner': 1.8121026793142647}\n",
            "{'ner': 2.496927369498411}\n",
            "{'ner': 1.8466328102162137}\n",
            "{'ner': 1.2956255437302175}\n",
            "{'ner': 0.9753100419482656}\n",
            "{'ner': 0.8017581532767508}\n",
            "{'ner': 0.6856597603391705}\n",
            "{'ner': 1.293757607830191}\n",
            "{'ner': 0.5172842797017543}\n",
            "{'ner': 0.23686811432660237}\n",
            "{'ner': 0.07120647410648115}\n",
            "{'ner': 0.07949336052351132}\n",
            "{'ner': 0.025343809040388635}\n",
            "{'ner': 0.0023954455297810102}\n",
            "{'ner': 0.0017413423311672485}\n",
            "{'ner': 2.7409106156041146e-05}\n",
            "{'ner': 0.0002592851821628674}\n",
            "{'ner': 0.020918435156208483}\n",
            "{'ner': 2.98372796649386e-05}\n",
            "{'ner': 2.5923227657486798e-05}\n",
            "{'ner': 0.00011024153521565163}\n",
            "{'ner': 2.9028798676471964e-06}\n",
            "{'ner': 2.284252810991162e-05}\n",
            "{'ner': 1.1945776969701788e-06}\n",
            "{'ner': 1.3765302084379492e-05}\n",
            "{'ner': 1.879346494768636e-06}\n",
            "{'ner': 1.7750035447135838e-07}\n",
            "{'ner': 0.006174892001298106}\n",
            "{'ner': 2.2407204022891636e-06}\n",
            "{'ner': 1.0414294071317674e-06}\n",
            "{'ner': 2.442074713152313e-06}\n",
            "{'ner': 7.136314977684203e-07}\n",
            "{'ner': 7.748970328100056e-08}\n",
            "{'ner': 1.219711972436455e-06}\n",
            "{'ner': 1.341658770027755e-06}\n",
            "{'ner': 4.76586089806883e-07}\n",
            "{'ner': 1.7806780095006243e-05}\n",
            "{'ner': 7.208390056101556e-07}\n",
            "{'ner': 6.3563226082872775e-06}\n",
            "{'ner': 5.62876825883121e-08}\n",
            "{'ner': 5.19077313274858e-07}\n",
            "{'ner': 4.536255740808987e-06}\n",
            "{'ner': 3.95518365420605e-07}\n",
            "{'ner': 7.104631822889178e-08}\n",
            "{'ner': 2.2095296108394353e-07}\n",
            "{'ner': 5.1952398158638195e-08}\n",
            "{'ner': 2.793612476869707e-07}\n",
            "{'ner': 5.109890845210746e-07}\n",
            "{'ner': 1.068755137469349e-06}\n",
            "{'ner': 9.774232624968027e-09}\n",
            "{'ner': 1.8792517514137827e-06}\n",
            "{'ner': 2.2845461090409714e-07}\n",
            "{'ner': 3.531064418493985e-08}\n",
            "{'ner': 1.3681537255858135e-07}\n",
            "{'ner': 3.1934579622460467e-06}\n",
            "{'ner': 3.6749123843169024e-08}\n",
            "{'ner': 1.4322821584234907e-06}\n",
            "{'ner': 3.515550227718616e-07}\n",
            "{'ner': 5.044926042888703e-08}\n",
            "{'ner': 1.0328065681014176e-07}\n",
            "{'ner': 3.441984760044711e-07}\n",
            "{'ner': 2.7411350439553855e-06}\n",
            "{'ner': 7.146480220089873e-07}\n",
            "{'ner': 3.1104216898616863e-07}\n",
            "{'ner': 1.7644222653160606e-06}\n",
            "{'ner': 3.055300243491267e-08}\n",
            "{'ner': 9.468537813472964e-07}\n",
            "{'ner': 1.964817711681076e-08}\n",
            "{'ner': 6.144594142391022e-08}\n",
            "{'ner': 1.6338509389864687e-07}\n",
            "{'ner': 2.5345585799449043e-09}\n",
            "{'ner': 1.044064213145182e-06}\n",
            "{'ner': 4.58932011129774e-08}\n",
            "{'ner': 6.705909496479167e-08}\n",
            "{'ner': 1.4506730583799138e-07}\n",
            "{'ner': 1.944387540946021e-08}\n",
            "{'ner': 9.804717143997648e-08}\n",
            "{'ner': 2.6240221441475163e-08}\n",
            "{'ner': 2.330288010521628e-06}\n",
            "{'ner': 1.4257528187820077e-07}\n",
            "{'ner': 1.5108649223920184e-09}\n",
            "{'ner': 5.470233713714642e-09}\n",
            "{'ner': 8.954996875397435e-09}\n",
            "{'ner': 4.022813365985113e-06}\n",
            "{'ner': 5.5433853944382035e-08}\n",
            "{'ner': 4.670904825099505e-07}\n",
            "{'ner': 1.2376703381324225e-07}\n"
          ]
        }
      ]
    },
    {
      "cell_type": "code",
      "source": [
        "# TEST\n",
        "for text, _ in TRAIN_DATA:\n",
        "    doc = nlp(text)\n",
        "    print('Entities', [(ent.text, ent.label_) for ent in doc.ents])"
      ],
      "metadata": {
        "colab": {
          "base_uri": "https://localhost:8080/"
        },
        "id": "kOS7izCQMMdB",
        "outputId": "b2b2d0e0-bdef-48bc-906e-588842e9c26f"
      },
      "execution_count": 19,
      "outputs": [
        {
          "output_type": "stream",
          "name": "stdout",
          "text": [
            "Entities [('Nishanth', 'PERSON')]\n",
            "Entities [('London', 'LOC'), ('Berlin', 'LOC')]\n",
            "Entities [('Kamal Khumar', 'PERSON')]\n"
          ]
        }
      ]
    },
    {
      "cell_type": "code",
      "source": [
        "if output_dir is not None:\n",
        "    nlp.to_disk(output_dir)\n",
        "    print(\"Saved model to\", output_dir)"
      ],
      "metadata": {
        "colab": {
          "base_uri": "https://localhost:8080/"
        },
        "id": "2exOGviCMQH9",
        "outputId": "d204d007-1a5f-4069-d44b-cb719d8d6ed9"
      },
      "execution_count": 22,
      "outputs": [
        {
          "output_type": "stream",
          "name": "stdout",
          "text": [
            "Saved model to /content/Model\n"
          ]
        }
      ]
    }
  ]
}